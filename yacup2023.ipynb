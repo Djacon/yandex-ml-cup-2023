{
 "cells": [
  {
   "cell_type": "markdown",
   "id": "7d64683a-82dc-43cd-a222-21f72e9ca896",
   "metadata": {},
   "source": [
    "## Import Libraries and Datasets"
   ]
  },
  {
   "cell_type": "code",
   "execution_count": 1,
   "id": "340aceb6-4360-49ac-8381-bb42055d6146",
   "metadata": {},
   "outputs": [],
   "source": [
    "import numpy as np\n",
    "import pandas as pd\n",
    "from tqdm import tqdm\n",
    "from glob import glob\n",
    "from datetime import datetime\n",
    "\n",
    "import torch\n",
    "import torch.nn as nn\n",
    "from torch.utils.data import Dataset, DataLoader"
   ]
  },
  {
   "cell_type": "code",
   "execution_count": 2,
   "id": "32801790-6619-4141-b909-a70de5e00071",
   "metadata": {},
   "outputs": [],
   "source": [
    "# GLOBAL VARIABLES\n",
    "CUDA_DEV = 0\n",
    "NUM_TAGS = 256\n",
    "\n",
    "# EDA Preprocessing\n",
    "MAX_GENRES = 10\n",
    "MAX_SECONDS = 138\n",
    "\n",
    "# Train Constants\n",
    "N_FOLDS = 10\n",
    "N_EPOCH = 14\n",
    "BATCH_SIZE = 64\n",
    "OPTIM_LR = 3e-4\n",
    "\n",
    "# Set True if you want to use W&B library\n",
    "IS_WANDB = False"
   ]
  },
  {
   "cell_type": "code",
   "execution_count": 3,
   "id": "29f35090-eb3d-464b-b46f-de30c4d42d4d",
   "metadata": {},
   "outputs": [],
   "source": [
    "df_train = pd.read_csv('train_extended.csv')\n",
    "df_test = pd.read_csv('test_extended.csv')\n",
    "\n",
    "# Keep tracks with no more than 10 genres (by default)\n",
    "df_train = df_train[df_train.tags.apply(lambda x: len(x.split(',')) <= MAX_GENRES)]"
   ]
  },
  {
   "cell_type": "code",
   "execution_count": 4,
   "id": "b46b7d4b-785e-4187-b2bc-6c620c7b8cf1",
   "metadata": {
    "code_folding": [],
    "scrolled": true
   },
   "outputs": [
    {
     "name": "stderr",
     "output_type": "stream",
     "text": [
      "100%|██████████████████████████████████████████████████████████████████████████| 76714/76714 [00:52<00:00, 1455.00it/s]\n"
     ]
    }
   ],
   "source": [
    "# Download the track-embeddings (source - https://www.kaggle.com/datasets/sharthz23/yandex-cup-2023-recsys/data?select=track_embeddings)\n",
    "track_idx2embeds = {}\n",
    "for fn in tqdm(glob('track_embeddings/*')):\n",
    "    track_idx = int(fn.split('\\\\')[1].split('.')[0])\n",
    "    embeds = np.load(fn)\n",
    "    track_idx2embeds[track_idx] = embeds"
   ]
  },
  {
   "cell_type": "markdown",
   "id": "f8fdbb3e-368b-4c0b-9c26-b54eef54e5e9",
   "metadata": {},
   "source": [
    "### Create Track DataLoader"
   ]
  },
  {
   "cell_type": "code",
   "execution_count": 5,
   "id": "8d1b5cae-60ae-4584-a6bb-4f6b833929aa",
   "metadata": {},
   "outputs": [],
   "source": [
    "class TaggingDataset(Dataset):\n",
    "    def __init__(self, df, testing=False):\n",
    "        self.df = df\n",
    "        self.testing = testing\n",
    "\n",
    "    def __len__(self):\n",
    "        return self.df.shape[0]\n",
    "\n",
    "    def __getitem__(self, idx):\n",
    "        row = self.df.iloc[idx]\n",
    "        track_idx = row.track\n",
    "        embeds = track_idx2embeds[track_idx]\n",
    "        if self.testing:\n",
    "            return track_idx, embeds\n",
    "        tags = [int(x) for x in row.tags.split(',')]\n",
    "        target = np.zeros(NUM_TAGS)\n",
    "        target[tags] = 1\n",
    "        return embeds, target"
   ]
  },
  {
   "cell_type": "code",
   "execution_count": 6,
   "id": "e4decde5-005a-4820-804c-cf4d110c799e",
   "metadata": {},
   "outputs": [],
   "source": [
    "def collate_fn(b):\n",
    "    embeds = [torch.from_numpy(x[0]) for x in b]\n",
    "    targets = np.vstack([x[1] for x in b])\n",
    "    targets = torch.from_numpy(targets)\n",
    "    return embeds, targets\n",
    "\n",
    "def collate_fn_test(b):\n",
    "    track_idxs = torch.from_numpy(np.vstack([x[0] for x in b]))\n",
    "    embeds = [torch.from_numpy(x[1]) for x in b]\n",
    "    return track_idxs, embeds"
   ]
  },
  {
   "cell_type": "markdown",
   "id": "eb0bd4f0-e304-401b-9220-2f738775e53e",
   "metadata": {},
   "source": [
    "## EDA"
   ]
  },
  {
   "cell_type": "code",
   "execution_count": 7,
   "id": "6d94f7fb-802e-47cb-aa51-115266e35daf",
   "metadata": {},
   "outputs": [
    {
     "name": "stdout",
     "output_type": "stream",
     "text": [
      "Confidence interval: 58.13 ± 3 * 26.62, so interval is [0; 138]\n"
     ]
    },
    {
     "data": {
      "text/html": [
       "<div>\n",
       "<style scoped>\n",
       "    .dataframe tbody tr th:only-of-type {\n",
       "        vertical-align: middle;\n",
       "    }\n",
       "\n",
       "    .dataframe tbody tr th {\n",
       "        vertical-align: top;\n",
       "    }\n",
       "\n",
       "    .dataframe thead th {\n",
       "        text-align: right;\n",
       "    }\n",
       "</style>\n",
       "<table border=\"1\" class=\"dataframe\">\n",
       "  <thead>\n",
       "    <tr style=\"text-align: right;\">\n",
       "      <th></th>\n",
       "      <th>length</th>\n",
       "    </tr>\n",
       "  </thead>\n",
       "  <tbody>\n",
       "    <tr>\n",
       "      <th>count</th>\n",
       "      <td>50614.000000</td>\n",
       "    </tr>\n",
       "    <tr>\n",
       "      <th>mean</th>\n",
       "      <td>58.128502</td>\n",
       "    </tr>\n",
       "    <tr>\n",
       "      <th>std</th>\n",
       "      <td>26.615302</td>\n",
       "    </tr>\n",
       "    <tr>\n",
       "      <th>min</th>\n",
       "      <td>10.000000</td>\n",
       "    </tr>\n",
       "    <tr>\n",
       "      <th>25%</th>\n",
       "      <td>43.000000</td>\n",
       "    </tr>\n",
       "    <tr>\n",
       "      <th>50%</th>\n",
       "      <td>53.000000</td>\n",
       "    </tr>\n",
       "    <tr>\n",
       "      <th>75%</th>\n",
       "      <td>68.000000</td>\n",
       "    </tr>\n",
       "    <tr>\n",
       "      <th>max</th>\n",
       "      <td>404.000000</td>\n",
       "    </tr>\n",
       "  </tbody>\n",
       "</table>\n",
       "</div>"
      ],
      "text/plain": [
       "             length\n",
       "count  50614.000000\n",
       "mean      58.128502\n",
       "std       26.615302\n",
       "min       10.000000\n",
       "25%       43.000000\n",
       "50%       53.000000\n",
       "75%       68.000000\n",
       "max      404.000000"
      ]
     },
     "execution_count": 7,
     "metadata": {},
     "output_type": "execute_result"
    },
    {
     "data": {
      "image/png": "[encoded data removed]",
      "text/plain": [
       "<Figure size 432x288 with 1 Axes>"
      ]
     },
     "metadata": {
      "needs_background": "light"
     },
     "output_type": "display_data"
    }
   ],
   "source": [
    "df_train.length.hist(bins=100)\n",
    "\n",
    "length_std = df_train.length.std()\n",
    "length_mean = df_train.length.mean()\n",
    "print(f'Confidence interval: {length_mean:.2f} ± 3 * {length_std:.2f}, so interval is [0; {round(length_mean + 3 * length_std)}]')\n",
    "\n",
    "df_train[['length']].describe()"
   ]
  },
  {
   "cell_type": "code",
   "execution_count": 8,
   "id": "8accf595-2aaf-4cbf-b29d-b7911e4b2fc8",
   "metadata": {},
   "outputs": [
    {
     "name": "stdout",
     "output_type": "stream",
     "text": [
      "Confidence interval: 3.84 ± 3 * 1.63, so interval is [1; 9]\n"
     ]
    },
    {
     "data": {
      "text/html": [
       "<div>\n",
       "<style scoped>\n",
       "    .dataframe tbody tr th:only-of-type {\n",
       "        vertical-align: middle;\n",
       "    }\n",
       "\n",
       "    .dataframe tbody tr th {\n",
       "        vertical-align: top;\n",
       "    }\n",
       "\n",
       "    .dataframe thead th {\n",
       "        text-align: right;\n",
       "    }\n",
       "</style>\n",
       "<table border=\"1\" class=\"dataframe\">\n",
       "  <thead>\n",
       "    <tr style=\"text-align: right;\">\n",
       "      <th></th>\n",
       "      <th>n_genres</th>\n",
       "    </tr>\n",
       "  </thead>\n",
       "  <tbody>\n",
       "    <tr>\n",
       "      <th>count</th>\n",
       "      <td>50614.000000</td>\n",
       "    </tr>\n",
       "    <tr>\n",
       "      <th>mean</th>\n",
       "      <td>3.843759</td>\n",
       "    </tr>\n",
       "    <tr>\n",
       "      <th>std</th>\n",
       "      <td>1.625611</td>\n",
       "    </tr>\n",
       "    <tr>\n",
       "      <th>min</th>\n",
       "      <td>1.000000</td>\n",
       "    </tr>\n",
       "    <tr>\n",
       "      <th>25%</th>\n",
       "      <td>3.000000</td>\n",
       "    </tr>\n",
       "    <tr>\n",
       "      <th>50%</th>\n",
       "      <td>4.000000</td>\n",
       "    </tr>\n",
       "    <tr>\n",
       "      <th>75%</th>\n",
       "      <td>5.000000</td>\n",
       "    </tr>\n",
       "    <tr>\n",
       "      <th>max</th>\n",
       "      <td>10.000000</td>\n",
       "    </tr>\n",
       "  </tbody>\n",
       "</table>\n",
       "</div>"
      ],
      "text/plain": [
       "           n_genres\n",
       "count  50614.000000\n",
       "mean       3.843759\n",
       "std        1.625611\n",
       "min        1.000000\n",
       "25%        3.000000\n",
       "50%        4.000000\n",
       "75%        5.000000\n",
       "max       10.000000"
      ]
     },
     "execution_count": 8,
     "metadata": {},
     "output_type": "execute_result"
    },
    {
     "data": {
      "image/png": "[encoded data removed]",
      "text/plain": [
       "<Figure size 432x288 with 1 Axes>"
      ]
     },
     "metadata": {
      "needs_background": "light"
     },
     "output_type": "display_data"
    }
   ],
   "source": [
    "df_train['n_genres'] = df_train.tags.apply(lambda x: len(x.split(',')))\n",
    "df_train['n_genres'].hist(bins=10)\n",
    "\n",
    "length_std = df_train['n_genres'].std()\n",
    "length_mean = df_train['n_genres'].mean()\n",
    "print(f'Confidence interval: {length_mean:.2f} ± 3 * {length_std:.2f}, so interval is [1; {round(length_mean + 3 * length_std)}]')\n",
    "\n",
    "df_train[['n_genres']].describe()"
   ]
  },
  {
   "cell_type": "markdown",
   "id": "bd0534c8-d63e-421d-b4b0-439ab9c9c069",
   "metadata": {},
   "source": [
    "## Model Preparation"
   ]
  },
  {
   "cell_type": "markdown",
   "id": "cd9f366b-f6d7-4371-89b1-2c05c9a83bd9",
   "metadata": {},
   "source": [
    "### Create Transformer Model"
   ]
  },
  {
   "cell_type": "code",
   "execution_count": 9,
   "id": "c3ed15ba",
   "metadata": {},
   "outputs": [],
   "source": [
    "from torch.nn.utils.rnn import pad_sequence\n",
    "\n",
    "# Custom Model for Genre Predictions\n",
    "class Trackformer(nn.Module):\n",
    "    def __init__(\n",
    "        self,\n",
    "        num_classes=NUM_TAGS,\n",
    "        input_dim=768,\n",
    "        hidden_dim=128,\n",
    "        n_encoder_layers=1,\n",
    "        n_decoder_layers=6,\n",
    "        n_heads=4,\n",
    "        dropout=0.1\n",
    "    ):\n",
    "        super().__init__()\n",
    "        self.projector = nn.Linear(input_dim, hidden_dim)\n",
    "\n",
    "        self.transformer = nn.Transformer(\n",
    "            d_model=hidden_dim,\n",
    "            nhead=n_heads,\n",
    "            num_encoder_layers=n_encoder_layers,\n",
    "            num_decoder_layers=n_decoder_layers,\n",
    "            dropout=dropout,\n",
    "            batch_first=True\n",
    "        )\n",
    "\n",
    "        self.dropout = nn.Dropout(dropout)\n",
    "        self.fc = nn.Linear(hidden_dim, num_classes)\n",
    "\n",
    "        self.n_params = sum(p.numel() for p in self.parameters())\n",
    "\n",
    "    def forward(self, embeds):\n",
    "        # Counting only the first 138 seconds of each track (by default)\n",
    "        x = [self.projector(x[:MAX_SECONDS]) for x in embeds]\n",
    "        x = pad_sequence(x, batch_first=True, padding_value=0) # add zero-padding\n",
    "        x = self.transformer(x, x[:, 0, :].unsqueeze(1)).squeeze(1)\n",
    "        out = self.fc(x)\n",
    "        return out"
   ]
  },
  {
   "cell_type": "markdown",
   "id": "937aac94-ed6e-4f10-be00-26a8e506d598",
   "metadata": {},
   "source": [
    "### Add Train/Evaluation/Predict Functions"
   ]
  },
  {
   "cell_type": "code",
   "execution_count": 10,
   "id": "c70bf034-7966-4f44-9f2e-dcaf0f8a8184",
   "metadata": {},
   "outputs": [],
   "source": [
    "def train_epoch(model, train_loader, val_loader, criterion, optimizer):\n",
    "    model.train()\n",
    "\n",
    "    for iteration, data in enumerate(train_loader):\n",
    "        optimizer.zero_grad()\n",
    "        embeds, target = data\n",
    "        embeds = [x.to(CUDA_DEV) for x in embeds]\n",
    "        target = target.to(CUDA_DEV).float()\n",
    "        pred_logits = model(embeds).sigmoid().float()\n",
    "        ce_loss = criterion(pred_logits, target)\n",
    "        ce_loss.backward()\n",
    "        optimizer.step()\n",
    "\n",
    "        if iteration % 100 == 0:\n",
    "            train_loss = ce_loss.item()\n",
    "            val_loss, val_acc = evaluate_model(model, val_loader)\n",
    "            if IS_WANDB:\n",
    "                wandb.log({\"batch\": iteration + 1, \"train_loss\": train_loss, \"val_loss\": val_loss, \"val_acc\": val_acc})\n",
    "            print(f'   {datetime.now()} batch {iteration + 1} train_loss {train_loss:.5f} val_loss {val_loss:.5f} val_acc {val_acc:.5f}')"
   ]
  },
  {
   "cell_type": "code",
   "execution_count": 11,
   "id": "3dd84262",
   "metadata": {},
   "outputs": [],
   "source": [
    "import warnings\n",
    "from sklearn.metrics import average_precision_score\n",
    "\n",
    "def evaluate_model(model, val_loader):\n",
    "    warnings.filterwarnings(\"ignore\")\n",
    "    model.eval()\n",
    "\n",
    "    val_acc = 0.0\n",
    "    val_loss = 0.0\n",
    "    with torch.no_grad():\n",
    "        for iteration, data in enumerate(val_loader):\n",
    "            embeds, target = data\n",
    "            embeds = [x.to(CUDA_DEV) for x in embeds]\n",
    "            target = target.to(CUDA_DEV).float()\n",
    "            pred_logits = model(embeds).sigmoid().float()\n",
    "\n",
    "            y_pred, y_true = pred_logits.cpu().detach().numpy(), target.cpu().detach().numpy()\n",
    "            val_acc += average_precision_score(y_true, y_pred, average='macro', pos_label=1, sample_weight=None)\n",
    "\n",
    "            ce_loss = criterion(pred_logits, target)\n",
    "            val_loss += ce_loss.item()\n",
    "\n",
    "    warnings.filterwarnings(\"default\")\n",
    "    return val_loss / iteration, val_acc / iteration"
   ]
  },
  {
   "cell_type": "code",
   "execution_count": 12,
   "id": "2e624b0b-8daf-4702-a5de-c667fcd53121",
   "metadata": {},
   "outputs": [],
   "source": [
    "def predict(model, loader):\n",
    "    model.eval()\n",
    "    track_idxs = []\n",
    "    predictions = []\n",
    "    with torch.no_grad():\n",
    "        for data in loader:\n",
    "            track_idx, embeds = data\n",
    "            embeds = [x.to(CUDA_DEV) for x in embeds]\n",
    "            pred_probs = model(embeds).sigmoid()\n",
    "            predictions.append(pred_probs.cpu().numpy())\n",
    "            track_idxs.append(track_idx.numpy())\n",
    "    predictions = np.vstack(predictions)\n",
    "    track_idxs = np.vstack(track_idxs).ravel()\n",
    "    return track_idxs, predictions"
   ]
  },
  {
   "cell_type": "markdown",
   "id": "92520883-098a-4d42-b538-478e199fd4f4",
   "metadata": {},
   "source": [
    "### Import W&B (if needed)"
   ]
  },
  {
   "cell_type": "code",
   "execution_count": 13,
   "id": "70bbebc6",
   "metadata": {},
   "outputs": [],
   "source": [
    "if IS_WANDB:\n",
    "    import wandb\n",
    "    wandb.login()\n",
    "\n",
    "def wandb_init_if_needed():\n",
    "    if IS_WANDB:\n",
    "        wandb.init(\n",
    "            project=\"Trackformer\",\n",
    "            config={\n",
    "                \"architecture\": \"Transformer\",\n",
    "                \"learning_rate\": OPTIM_LR,\n",
    "                \"epochs\": N_EPOCH,\n",
    "            }\n",
    "        )"
   ]
  },
  {
   "cell_type": "code",
   "execution_count": 18,
   "id": "42b5be56",
   "metadata": {},
   "outputs": [],
   "source": [
    "# wandb.finish()"
   ]
  },
  {
   "cell_type": "code",
   "execution_count": null,
   "id": "fd5a47df-c223-4dd8-a680-af2a88a1ebe7",
   "metadata": {},
   "outputs": [],
   "source": []
  },
  {
   "cell_type": "markdown",
   "id": "433966f6-cf3f-401d-946e-1cbdea6c0ddb",
   "metadata": {},
   "source": [
    "## Train 1 Fold"
   ]
  },
  {
   "cell_type": "code",
   "execution_count": 17,
   "id": "0089e5e4-757f-41be-a06f-4fdfd06e0a5f",
   "metadata": {},
   "outputs": [],
   "source": [
    "fold = 1 # Folds from 1 to 10 (by default)\n",
    "fold_size = df_train.shape[0] // N_FOLDS\n",
    "\n",
    "val_df = df_train[fold_size * (fold-1):fold_size * fold]\n",
    "train_df = df_train.loc[~df_train.index.isin(range(fold_size * (fold - 1), fold_size * fold))]\n",
    "\n",
    "test_dataset = TaggingDataset(df_test, True)\n",
    "test_dataloader = DataLoader(test_dataset, batch_size=BATCH_SIZE, shuffle=False, collate_fn=collate_fn_test)\n",
    "\n",
    "train_dataset = TaggingDataset(train_df)\n",
    "val_dataset = TaggingDataset(val_df)\n",
    "\n",
    "train_dataloader = DataLoader(train_dataset, batch_size=BATCH_SIZE, shuffle=True, collate_fn=collate_fn)\n",
    "val_dataloader = DataLoader(val_dataset, batch_size=BATCH_SIZE, shuffle=False, collate_fn=collate_fn)"
   ]
  },
  {
   "cell_type": "code",
   "execution_count": 19,
   "id": "9cca4b53-d7fc-478a-8235-551ea6480076",
   "metadata": {
    "scrolled": true
   },
   "outputs": [
    {
     "name": "stdout",
     "output_type": "stream",
     "text": [
      "Total params: 4_680_960\n"
     ]
    },
    {
     "name": "stderr",
     "output_type": "stream",
     "text": [
      "  0%|                                                                                            | 0/1 [00:00<?, ?it/s]"
     ]
    },
    {
     "name": "stdout",
     "output_type": "stream",
     "text": [
      "   2023-11-13 21:07:02.841561 batch 1 train_loss 0.72929 val_loss 0.61133 val_acc 0.04060\n",
      "   2023-11-13 21:07:14.194396 batch 101 train_loss 0.09590 val_loss 0.09712 val_acc 0.05238\n",
      "   2023-11-13 21:07:25.531234 batch 201 train_loss 0.07321 val_loss 0.07127 val_acc 0.05375\n",
      "   2023-11-13 21:07:36.841067 batch 301 train_loss 0.06190 val_loss 0.06550 val_acc 0.07175\n",
      "   2023-11-13 21:07:48.357905 batch 401 train_loss 0.05999 val_loss 0.06253 val_acc 0.08454\n",
      "   2023-11-13 21:07:59.936738 batch 501 train_loss 0.06027 val_loss 0.06063 val_acc 0.10087\n",
      "   2023-11-13 21:08:11.496572 batch 601 train_loss 0.05305 val_loss 0.05927 val_acc 0.11757\n",
      "   2023-11-13 21:08:22.811407 batch 701 train_loss 0.05560 val_loss 0.05766 val_acc 0.12854\n"
     ]
    },
    {
     "name": "stderr",
     "output_type": "stream",
     "text": [
      "100%|████████████████████████████████████████████████████████████████████████████████████| 1/1 [01:29<00:00, 89.11s/it]\n"
     ]
    }
   ],
   "source": [
    "model = Trackformer()\n",
    "criterion = nn.BCELoss()\n",
    "\n",
    "print(f'Total params: {model.n_params:_}')\n",
    "\n",
    "model = model.to(CUDA_DEV)\n",
    "criterion = criterion.to(CUDA_DEV)\n",
    "optimizer = torch.optim.AdamW(model.parameters(), lr=OPTIM_LR)\n",
    "\n",
    "wandb_init_if_needed()\n",
    "for epoch in tqdm(range(N_EPOCH)):\n",
    "    train_epoch(model, train_dataloader, val_dataloader, criterion, optimizer)"
   ]
  },
  {
   "cell_type": "markdown",
   "id": "9058b358-4ab4-4266-9c24-d6dbce01ad81",
   "metadata": {},
   "source": [
    "### Make Single Submission"
   ]
  },
  {
   "cell_type": "code",
   "execution_count": 20,
   "id": "f7222d0e-857f-426f-815b-308b67877a2c",
   "metadata": {},
   "outputs": [
    {
     "name": "stdout",
     "output_type": "stream",
     "text": [
      "CPU times: total: 7.97 s\n",
      "Wall time: 7.95 s\n"
     ]
    }
   ],
   "source": [
    "%%time\n",
    "track_idxs, predictions = predict(model, test_dataloader)"
   ]
  },
  {
   "cell_type": "code",
   "execution_count": 21,
   "id": "2a792386-caa9-4bbc-8447-5448c5264b24",
   "metadata": {},
   "outputs": [],
   "source": [
    "predictions_df = pd.DataFrame([\n",
    "    {'track': track, 'prediction': ','.join([str(p) for p in probs])}\n",
    "    for track, probs in zip(track_idxs, predictions)\n",
    "])"
   ]
  },
  {
   "cell_type": "code",
   "execution_count": 22,
   "id": "717c5830-848d-4f0e-8895-75d4601939a5",
   "metadata": {},
   "outputs": [],
   "source": [
    "predictions_df.to_csv(f'pred_tformer_fold{fold}.csv', index=False)"
   ]
  },
  {
   "cell_type": "code",
   "execution_count": 23,
   "id": "20cf130f-4fd8-4fd6-bf65-26a89e283e70",
   "metadata": {
    "scrolled": true
   },
   "outputs": [
    {
     "data": {
      "text/html": [
       "<div>\n",
       "<style scoped>\n",
       "    .dataframe tbody tr th:only-of-type {\n",
       "        vertical-align: middle;\n",
       "    }\n",
       "\n",
       "    .dataframe tbody tr th {\n",
       "        vertical-align: top;\n",
       "    }\n",
       "\n",
       "    .dataframe thead th {\n",
       "        text-align: right;\n",
       "    }\n",
       "</style>\n",
       "<table border=\"1\" class=\"dataframe\">\n",
       "  <thead>\n",
       "    <tr style=\"text-align: right;\">\n",
       "      <th></th>\n",
       "      <th>track</th>\n",
       "      <th>prediction</th>\n",
       "    </tr>\n",
       "  </thead>\n",
       "  <tbody>\n",
       "    <tr>\n",
       "      <th>0</th>\n",
       "      <td>17730</td>\n",
       "      <td>0.37374988,0.20363799,0.2021929,0.3041287,0.03...</td>\n",
       "    </tr>\n",
       "    <tr>\n",
       "      <th>1</th>\n",
       "      <td>32460</td>\n",
       "      <td>0.29124525,0.3581382,0.22837844,0.1856402,0.02...</td>\n",
       "    </tr>\n",
       "    <tr>\n",
       "      <th>2</th>\n",
       "      <td>11288</td>\n",
       "      <td>0.14650339,0.22279377,0.18561621,0.23304635,0....</td>\n",
       "    </tr>\n",
       "    <tr>\n",
       "      <th>3</th>\n",
       "      <td>18523</td>\n",
       "      <td>0.54540426,0.13262658,0.28503522,0.11530596,0....</td>\n",
       "    </tr>\n",
       "    <tr>\n",
       "      <th>4</th>\n",
       "      <td>71342</td>\n",
       "      <td>0.14968708,0.05640894,0.11685478,0.29343122,0....</td>\n",
       "    </tr>\n",
       "  </tbody>\n",
       "</table>\n",
       "</div>"
      ],
      "text/plain": [
       "   track                                         prediction\n",
       "0  17730  0.37374988,0.20363799,0.2021929,0.3041287,0.03...\n",
       "1  32460  0.29124525,0.3581382,0.22837844,0.1856402,0.02...\n",
       "2  11288  0.14650339,0.22279377,0.18561621,0.23304635,0....\n",
       "3  18523  0.54540426,0.13262658,0.28503522,0.11530596,0....\n",
       "4  71342  0.14968708,0.05640894,0.11685478,0.29343122,0...."
      ]
     },
     "execution_count": 23,
     "metadata": {},
     "output_type": "execute_result"
    }
   ],
   "source": [
    "predictions_df.head()"
   ]
  },
  {
   "cell_type": "code",
   "execution_count": null,
   "id": "076ce05b-05b3-4afa-92fd-6e5af91b0956",
   "metadata": {},
   "outputs": [],
   "source": []
  },
  {
   "cell_type": "markdown",
   "id": "8717e0f9-931a-4ccf-8a17-66c013d97fae",
   "metadata": {},
   "source": [
    "## Train all 10 Folds"
   ]
  },
  {
   "cell_type": "code",
   "execution_count": 14,
   "id": "09145e20",
   "metadata": {
    "scrolled": true
   },
   "outputs": [],
   "source": [
    "for fold in range(1, N_FOLDS + 1):\n",
    "    print(f'FOLD-{fold}:')\n",
    "    ### Get Fold\n",
    "    fold_size = df_train.shape[0] // N_FOLDS\n",
    "\n",
    "    val_df = df_train[fold_size * (fold-1):fold_size * fold]\n",
    "    train_df = df_train.loc[~df_train.index.isin(range(fold_size * (fold - 1), fold_size * fold))]\n",
    "\n",
    "    test_dataset = TaggingDataset(df_test, True)\n",
    "    test_dataloader = DataLoader(test_dataset, batch_size=BATCH_SIZE, shuffle=False, collate_fn=collate_fn_test)\n",
    "\n",
    "    train_dataset = TaggingDataset(train_df)\n",
    "    val_dataset = TaggingDataset(val_df)\n",
    "\n",
    "    train_dataloader = DataLoader(train_dataset, batch_size=BATCH_SIZE, shuffle=True, collate_fn=collate_fn)\n",
    "    val_dataloader = DataLoader(val_dataset, batch_size=BATCH_SIZE, shuffle=False, collate_fn=collate_fn)\n",
    "    ### /Get Fold\n",
    "\n",
    "    ### Init new W&B session if needed:\n",
    "    wandb_init_if_needed()\n",
    "\n",
    "    ### Train Model\n",
    "    model = Trackformer()\n",
    "    criterion = nn.BCELoss()\n",
    "\n",
    "    print(f'Total params: {model.n_params:_}')\n",
    "\n",
    "    model = model.to(CUDA_DEV)\n",
    "    criterion = criterion.to(CUDA_DEV)\n",
    "    optimizer = torch.optim.AdamW(model.parameters(), lr=OPTIM_LR)\n",
    "\n",
    "    for epoch in tqdm(range(N_EPOCH)):\n",
    "        train_epoch(model, train_dataloader, val_dataloader, criterion, optimizer)\n",
    "    ### /Train Model\n",
    "\n",
    "    ### Get Prediction\n",
    "    track_idxs, predictions = predict(model, test_dataloader)\n",
    "\n",
    "    predictions_df = pd.DataFrame([\n",
    "        {'track': track, 'prediction': ','.join([str(p) for p in probs])}\n",
    "        for track, probs in zip(track_idxs, predictions)\n",
    "    ])\n",
    "    ### /Get Prediction\n",
    "\n",
    "    ### Save predictions of current fold\n",
    "    predictions_df.to_csv(f'pred_tformer_fold{fold}.csv', index=False)\n",
    "    print(f'Fold-{fold} saved!\\n\\n')"
   ]
  },
  {
   "cell_type": "markdown",
   "id": "23b31e77-4682-4ff6-99fb-7866e7fb1485",
   "metadata": {},
   "source": [
    "### Bagging Submission"
   ]
  },
  {
   "cell_type": "code",
   "execution_count": 15,
   "id": "a6e0f9c1-a5d6-4bf1-87e3-3998d557fef8",
   "metadata": {},
   "outputs": [],
   "source": [
    "preds = []\n",
    "for i in tqdm(range(1, N_FOLDS + 1)):\n",
    "    pred = pd.read_csv(f'pred_tformer_fold{i}.csv')['prediction'].apply(lambda x: list(map(float, x.split(','))) ).values\n",
    "    pred = np.array([np.array(x) for x in pred])\n",
    "    preds.append(pred)\n",
    "preds = np.array(preds)"
   ]
  },
  {
   "cell_type": "code",
   "execution_count": 16,
   "id": "8d867ca5-fe67-4f52-8fe2-d463b46e9cd2",
   "metadata": {},
   "outputs": [],
   "source": [
    "predictions = preds.mean(axis=0)\n",
    "predictions"
   ]
  },
  {
   "cell_type": "code",
   "execution_count": 54,
   "id": "bf45f69f-0177-477d-b099-7f74eb422875",
   "metadata": {},
   "outputs": [
    {
     "data": {
      "text/html": [
       "<div>\n",
       "<style scoped>\n",
       "    .dataframe tbody tr th:only-of-type {\n",
       "        vertical-align: middle;\n",
       "    }\n",
       "\n",
       "    .dataframe tbody tr th {\n",
       "        vertical-align: top;\n",
       "    }\n",
       "\n",
       "    .dataframe thead th {\n",
       "        text-align: right;\n",
       "    }\n",
       "</style>\n",
       "<table border=\"1\" class=\"dataframe\">\n",
       "  <thead>\n",
       "    <tr style=\"text-align: right;\">\n",
       "      <th></th>\n",
       "      <th>track</th>\n",
       "      <th>prediction</th>\n",
       "    </tr>\n",
       "  </thead>\n",
       "  <tbody>\n",
       "    <tr>\n",
       "      <th>0</th>\n",
       "      <td>17730</td>\n",
       "      <td>0.025683811500000004,0.04249316646,0.121365329...</td>\n",
       "    </tr>\n",
       "    <tr>\n",
       "      <th>1</th>\n",
       "      <td>32460</td>\n",
       "      <td>0.054375936999999985,0.4695480709999999,0.2681...</td>\n",
       "    </tr>\n",
       "    <tr>\n",
       "      <th>2</th>\n",
       "      <td>11288</td>\n",
       "      <td>0.115668747,0.413396596,0.23798349599999996,0....</td>\n",
       "    </tr>\n",
       "    <tr>\n",
       "      <th>3</th>\n",
       "      <td>18523</td>\n",
       "      <td>0.658433986,0.02621826585,0.1576727775,0.38235...</td>\n",
       "    </tr>\n",
       "    <tr>\n",
       "      <th>4</th>\n",
       "      <td>71342</td>\n",
       "      <td>0.01329453447,0.00532173159,0.0136098291699999...</td>\n",
       "    </tr>\n",
       "  </tbody>\n",
       "</table>\n",
       "</div>"
      ],
      "text/plain": [
       "   track                                         prediction\n",
       "0  17730  0.025683811500000004,0.04249316646,0.121365329...\n",
       "1  32460  0.054375936999999985,0.4695480709999999,0.2681...\n",
       "2  11288  0.115668747,0.413396596,0.23798349599999996,0....\n",
       "3  18523  0.658433986,0.02621826585,0.1576727775,0.38235...\n",
       "4  71342  0.01329453447,0.00532173159,0.0136098291699999..."
      ]
     },
     "execution_count": 54,
     "metadata": {},
     "output_type": "execute_result"
    }
   ],
   "source": [
    "predictions_df = pd.DataFrame([\n",
    "    {'track': track, 'prediction': ','.join([str(p) for p in probs])}\n",
    "    for track, probs in zip(df_test.track.values, predictions)\n",
    "])\n",
    "\n",
    "predictions_df.to_csv(f'pred_tformer_fold_1_{N_FOLDS}.csv', index=False)\n",
    "predictions_df.head()"
   ]
  },
  {
   "cell_type": "code",
   "execution_count": null,
   "id": "627f3660-36ed-4a0f-9dec-f8aed10c1484",
   "metadata": {},
   "outputs": [],
   "source": []
  }
 ],
 "metadata": {
  "kernelspec": {
   "display_name": "Python 3 (ipykernel)",
   "language": "python",
   "name": "python3"
  },
  "language_info": {
   "codemirror_mode": {
    "name": "ipython",
    "version": 3
   },
   "file_extension": ".py",
   "mimetype": "text/x-python",
   "name": "python",
   "nbconvert_exporter": "python",
   "pygments_lexer": "ipython3",
   "version": "3.10.8"
  }
 },
 "nbformat": 4,
 "nbformat_minor": 5
}
